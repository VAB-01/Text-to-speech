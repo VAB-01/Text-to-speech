{
 "cells": [
  {
   "cell_type": "code",
   "execution_count": 4,
   "id": "5f20e8df",
   "metadata": {},
   "outputs": [],
   "source": [
    "import pyttsx3 as pt\n",
    "with open(\"myfile.txt\",\"r\") as file:\n",
    "    lines = file.readlines()\n",
    "speaker = pt.init()\n",
    "for line in lines:\n",
    "    speaker.say(line.strip())\n",
    "    speaker.runAndWait()\n"
   ]
  },
  {
   "cell_type": "code",
   "execution_count": null,
   "id": "d7f7c11c",
   "metadata": {},
   "outputs": [],
   "source": []
  }
 ],
 "metadata": {
  "kernelspec": {
   "display_name": "Python 3 (ipykernel)",
   "language": "python",
   "name": "python3"
  },
  "language_info": {
   "codemirror_mode": {
    "name": "ipython",
    "version": 3
   },
   "file_extension": ".py",
   "mimetype": "text/x-python",
   "name": "python",
   "nbconvert_exporter": "python",
   "pygments_lexer": "ipython3",
   "version": "3.11.4"
  }
 },
 "nbformat": 4,
 "nbformat_minor": 5
}
